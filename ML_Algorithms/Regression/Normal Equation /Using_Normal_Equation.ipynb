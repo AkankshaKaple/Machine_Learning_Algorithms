{
 "cells": [
  {
   "cell_type": "code",
   "execution_count": 3,
   "metadata": {},
   "outputs": [
    {
     "name": "stdout",
     "output_type": "stream",
     "text": [
      "[90.93738004]\n"
     ]
    },
    {
     "data": {
      "image/png": "[encoded data removed]",
      "text/plain": [
       "<Figure size 432x288 with 1 Axes>"
      ]
     },
     "metadata": {},
     "output_type": "display_data"
    }
   ],
   "source": [
    "import pandas as pd\n",
    "import numpy as np\n",
    "from matplotlib import pyplot as plt\n",
    "from sklearn.model_selection import train_test_split\n",
    "from numpy.linalg import inv\n",
    "\n",
    "\n",
    "class LinearTrainer:\n",
    "\n",
    "    # Find the value of parameters in Linear Regression using normal equation method.\n",
    "    def trains(self, x_data_train, y_data_train):\n",
    "\n",
    "        # length of the train and test data sets.\n",
    "        x_data_train = np.column_stack((np.ones((x_data_train.shape[0], 1), dtype=int), x_data_train))\n",
    "        parameters = np.dot(inv(np.dot(np.transpose(x_data_train), x_data_train)),\n",
    "                            np.dot(np.transpose(x_data_train), y_data_train))\n",
    "\n",
    "        return parameters\n",
    "\n",
    "    def classify(self, x_data_test, parameters):\n",
    "\n",
    "        x_data_test = np.column_stack((np.ones((x_data_test.shape[0], 1)), x_data_test))\n",
    "\n",
    "        return np.dot(x_data_test, parameters)\n",
    "\n",
    "    def accuracy(self, y_data_test, y_pred_test):\n",
    "\n",
    "        total_error = 0\n",
    "        for i in range(0, len(y_data_test)):\n",
    "            total_error += abs((y_pred_test[i] - y_data_test[i]) / y_data_test[i])\n",
    "        total_error = (total_error / len(y_data_test))\n",
    "        accuracy = 1 - total_error\n",
    "        return accuracy * 100\n",
    "\n",
    "    def plotgraph(self, x_data_test, y_data_test, y_pred):\n",
    "\n",
    "        plt.scatter(x_data_test, y_data_test, color='g', label='Test Data Set')\n",
    "        plt.plot(x_data_test, y_pred, color='r', label='Predicted Values')\n",
    "        plt.legend()\n",
    "        plt.show()\n",
    "\n",
    "\n",
    "def main():\n",
    "\n",
    "    df = pd.read_csv('iris.csv')\n",
    "\n",
    "    # Assign the split data into train and test variables.\n",
    "    x_data_set = np.array(pd.DataFrame(df, columns=['sepal_length']))\n",
    "    y_data_set = np.array(pd.DataFrame(df, columns=['sepal_width']))\n",
    "\n",
    "    x_data_train, x_data_test, y_data_train, y_data_test = train_test_split(\n",
    "        x_data_set, y_data_set, test_size=0.25, shuffle=False)\n",
    "\n",
    "    l_t = LinearTrainer()\n",
    "    parameters = l_t.trains(x_data_train, y_data_train)\n",
    "    y_prediction = l_t.classify(x_data_test, parameters)\n",
    "    accuracy = l_t.accuracy(y_data_test, y_prediction)\n",
    "    print(accuracy)\n",
    "    l_t.plotgraph(x_data_test, y_data_test, y_prediction)\n",
    "\n",
    "\n",
    "if __name__ == '__main__':\n",
    "    main()\n"
   ]
  }
 ],
 "metadata": {
  "kernelspec": {
   "display_name": "Python 3",
   "language": "python",
   "name": "python3"
  },
  "language_info": {
   "codemirror_mode": {
    "name": "ipython",
    "version": 3
   },
   "file_extension": ".py",
   "mimetype": "text/x-python",
   "name": "python",
   "nbconvert_exporter": "python",
   "pygments_lexer": "ipython3",
   "version": "3.6.8"
  }
 },
 "nbformat": 4,
 "nbformat_minor": 2
}
